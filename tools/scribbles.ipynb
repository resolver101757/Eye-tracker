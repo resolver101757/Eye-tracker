{
 "cells": [
  {
   "cell_type": "code",
   "execution_count": 6,
   "metadata": {},
   "outputs": [
    {
     "name": "stdout",
     "output_type": "stream",
     "text": [
      "File does not exist\n",
      "G:\\My Drive\\Learning\\data_science\\models\\eye-tracker\\20240112_140058_eye_tracker-first_save_after_correct_screen_size\n"
     ]
    }
   ],
   "source": [
    "import os\n",
    "\n",
    "file_path = r'G:\\My Drive\\Learning\\data_science\\models\\eye-tracker\\20240112_140058_eye_tracker-first_save_after_correct_screen_size.pkl'\n",
    "\n",
    "if os.path.exists(file_path):\n",
    "    print(\"File exists\")\n",
    "    print(file_path)\n",
    "else:\n",
    "    print(\"File does not exist\")\n",
    "    print(file_path)\n"
   ]
  },
  {
   "cell_type": "code",
   "execution_count": null,
   "metadata": {},
   "outputs": [],
   "source": []
  }
 ],
 "metadata": {
  "kernelspec": {
   "display_name": "basic_data_science_libraries",
   "language": "python",
   "name": "python3"
  },
  "language_info": {
   "codemirror_mode": {
    "name": "ipython",
    "version": 3
   },
   "file_extension": ".py",
   "mimetype": "text/x-python",
   "name": "python",
   "nbconvert_exporter": "python",
   "pygments_lexer": "ipython3",
   "version": "3.8.18"
  }
 },
 "nbformat": 4,
 "nbformat_minor": 2
}
